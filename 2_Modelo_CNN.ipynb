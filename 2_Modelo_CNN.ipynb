{
 "cells": [
  {
   "cell_type": "code",
   "execution_count": 1,
   "id": "d54f5f01",
   "metadata": {},
   "outputs": [
    {
     "ename": "ModuleNotFoundError",
     "evalue": "No module named 'torch'",
     "output_type": "error",
     "traceback": [
      "\u001b[31m---------------------------------------------------------------------------\u001b[39m",
      "\u001b[31mModuleNotFoundError\u001b[39m                       Traceback (most recent call last)",
      "\u001b[36mCell\u001b[39m\u001b[36m \u001b[39m\u001b[32mIn[1]\u001b[39m\u001b[32m, line 6\u001b[39m\n\u001b[32m      3\u001b[39m \u001b[38;5;28;01mimport\u001b[39;00m\u001b[38;5;250m \u001b[39m\u001b[34;01mpandas\u001b[39;00m\u001b[38;5;250m \u001b[39m\u001b[38;5;28;01mas\u001b[39;00m\u001b[38;5;250m \u001b[39m\u001b[34;01mpd\u001b[39;00m\n\u001b[32m      4\u001b[39m \u001b[38;5;28;01mfrom\u001b[39;00m\u001b[38;5;250m \u001b[39m\u001b[34;01mmatplotlib\u001b[39;00m\u001b[38;5;250m \u001b[39m\u001b[38;5;28;01mimport\u001b[39;00m pyplot \u001b[38;5;28;01mas\u001b[39;00m plt\n\u001b[32m----> \u001b[39m\u001b[32m6\u001b[39m \u001b[38;5;28;01mfrom\u001b[39;00m\u001b[38;5;250m \u001b[39m\u001b[34;01mutils\u001b[39;00m\u001b[38;5;250m \u001b[39m\u001b[38;5;28;01mimport\u001b[39;00m get_class, plot_to_tensorboard, evaluate, CNNClassifier\n\u001b[32m      7\u001b[39m \u001b[38;5;28;01mfrom\u001b[39;00m\u001b[38;5;250m \u001b[39m\u001b[34;01mCustomImageDataset\u001b[39;00m\u001b[38;5;250m \u001b[39m\u001b[38;5;28;01mimport\u001b[39;00m CustomImageDataset\n\u001b[32m      8\u001b[39m \u001b[38;5;28;01mfrom\u001b[39;00m\u001b[38;5;250m \u001b[39m\u001b[34;01mMLPClassifier\u001b[39;00m\u001b[38;5;250m \u001b[39m\u001b[38;5;28;01mimport\u001b[39;00m MLPClassifier\n",
      "\u001b[36mFile \u001b[39m\u001b[32m~/ITBA/redes/RN-TP1/utils.py:6\u001b[39m\n\u001b[32m      4\u001b[39m \u001b[38;5;28;01mfrom\u001b[39;00m\u001b[38;5;250m \u001b[39m\u001b[34;01mPIL\u001b[39;00m\u001b[38;5;250m \u001b[39m\u001b[38;5;28;01mimport\u001b[39;00m Image\n\u001b[32m      5\u001b[39m \u001b[38;5;28;01mimport\u001b[39;00m\u001b[38;5;250m \u001b[39m\u001b[34;01mio\u001b[39;00m\n\u001b[32m----> \u001b[39m\u001b[32m6\u001b[39m \u001b[38;5;28;01mimport\u001b[39;00m\u001b[38;5;250m \u001b[39m\u001b[34;01mtorch\u001b[39;00m\n\u001b[32m      7\u001b[39m \u001b[38;5;28;01mimport\u001b[39;00m\u001b[38;5;250m \u001b[39m\u001b[34;01mtorch\u001b[39;00m\u001b[34;01m.\u001b[39;00m\u001b[34;01mnn\u001b[39;00m\u001b[38;5;250m \u001b[39m\u001b[38;5;28;01mas\u001b[39;00m\u001b[38;5;250m \u001b[39m\u001b[34;01mnn\u001b[39;00m\n\u001b[32m      8\u001b[39m \u001b[38;5;28;01mfrom\u001b[39;00m\u001b[38;5;250m \u001b[39m\u001b[34;01msklearn\u001b[39;00m\u001b[34;01m.\u001b[39;00m\u001b[34;01mmetrics\u001b[39;00m\u001b[38;5;250m \u001b[39m\u001b[38;5;28;01mimport\u001b[39;00m confusion_matrix, ConfusionMatrixDisplay, classification_report\n",
      "\u001b[31mModuleNotFoundError\u001b[39m: No module named 'torch'"
     ]
    }
   ],
   "source": [
    "from PIL import Image\n",
    "from pathlib import Path\n",
    "import pandas as pd\n",
    "from matplotlib import pyplot as plt\n",
    "\n",
    "from utils import get_class, plot_to_tensorboard, evaluate, CNNClassifier\n",
    "from CustomImageDataset import CustomImageDataset\n",
    "from MLPClassifier import MLPClassifier\n",
    "\n",
    "import os\n",
    "import io\n",
    "import numpy as np\n",
    "import logging\n",
    "\n",
    "import torch\n",
    "import torch.nn as nn\n",
    "import torch.optim as optim\n",
    "from torch.utils.data import Dataset, DataLoader\n",
    "from torch.utils.tensorboard import SummaryWriter\n",
    "\n",
    "import albumentations as A\n",
    "from albumentations.pytorch import ToTensorV2\n",
    "\n",
    "from sklearn.preprocessing import LabelEncoder\n",
    "from sklearn.metrics import confusion_matrix, ConfusionMatrixDisplay, classification_report\n",
    "\n",
    "from tqdm import tqdm\n",
    "\n",
    "import mlflow\n",
    "import mlflow.pytorch\n",
    "\n",
    "import warnings"
   ]
  },
  {
   "cell_type": "code",
   "execution_count": null,
   "id": "02f6b73c",
   "metadata": {},
   "outputs": [],
   "source": [
    "warnings.filterwarnings(\"ignore\", category=UserWarning)\n",
    "warnings.filterwarnings(\"ignore\", category=FutureWarning)\n",
    "logging.getLogger(\"mlflow\").setLevel(logging.ERROR)"
   ]
  },
  {
   "cell_type": "markdown",
   "id": "ce5934bf",
   "metadata": {},
   "source": [
    "## Load dataset\n",
    "\n",
    "> Cargar imagenes al dataframe"
   ]
  },
  {
   "cell_type": "code",
   "execution_count": null,
   "id": "491ee4b6",
   "metadata": {},
   "outputs": [],
   "source": [
    "data_dir = r'data/Split_smol/train/'\n",
    "p = Path(data_dir).glob('**/*')\n",
    "files = [(x, get_class(x), Image.open(x).size,Image.open(x)) for x in p if x.is_file()]\n",
    "df_train = pd.DataFrame(files, columns=[\"path\", \"class\", \"resolution\",\"data\"])\n",
    "\n",
    "data_dir = r'data/Split_smol/val/'\n",
    "p = Path(data_dir).glob('**/*')\n",
    "files = [(x, get_class(x), Image.open(x).size,Image.open(x)) for x in p if x.is_file()]\n",
    "df_val = pd.DataFrame(files, columns=[\"path\", \"class\", \"resolution\", \"data\"])"
   ]
  },
  {
   "cell_type": "markdown",
   "id": "c70e8c9c",
   "metadata": {},
   "source": [
    "## Modelo para clasificación de imágenes con MLP"
   ]
  },
  {
   "cell_type": "code",
   "execution_count": null,
   "id": "4fe56dde",
   "metadata": {},
   "outputs": [],
   "source": [
    "mlflow.set_experiment(\"CNN_Clasificador_Imagenes\")"
   ]
  },
  {
   "cell_type": "code",
   "execution_count": null,
   "id": "53c2e50d",
   "metadata": {},
   "outputs": [],
   "source": [
    "# Constant definitions\n",
    "\n",
    "TRAIN_DIR = \"data/Split_smol/train/\"\n",
    "VAL_DIR = \"data/Split_smol/val/\"\n",
    "\n",
    "batch_size = 32"
   ]
  },
  {
   "cell_type": "code",
   "execution_count": null,
   "id": "ea264742",
   "metadata": {},
   "outputs": [],
   "source": [
    "hparams_space= {\n",
    "    \"model\": (\"MLPClassifier\"),\n",
    "    \"input_size\":  [32,64,128],\n",
    "    \"batch_size\": [16,32,64,128],\n",
    "    \"lr\": [1e-2,1e-3,1e-4],\n",
    "    \"epochs\": 200,\n",
    "    \"optimizer\":  [\"Adam\", \"SGD\"],\n",
    "    \"HFlip\": [0.0,0.5],\n",
    "    \"VFlip\": [0.0,0.2,0.5],\n",
    "    \"RBContrast\": [0.0, 0.5],\n",
    "    \"loss_fn\": \"CrossEntropyLoss\",\n",
    "    \"train_dir\": TRAIN_DIR,\n",
    "    \"val_dir\": VAL_DIR,\n",
    "    \"es_patience\": 10,\n",
    "    \"dropout\": [0.0,0.1,0.2,0.3],\n",
    "    \"kernel_size\": [3,4],\n",
    "    \"out_channels\": [8,16,24]\n",
    "}"
   ]
  },
  {
   "cell_type": "code",
   "execution_count": null,
   "id": "9bfa6696",
   "metadata": {},
   "outputs": [],
   "source": [
    "transform_size = hparams_space[\"input_size\"][1]\n",
    "horizontal_flip = hparams_space[\"HFlip\"][1]\n",
    "RBContrast = hparams_space[\"RBContrast\"][1]\n",
    "\n",
    "train_transform = A.Compose([\n",
    "    A.Resize(transform_size, transform_size),\n",
    "    A.HorizontalFlip(p=horizontal_flip),\n",
    "    A.RandomBrightnessContrast(p=RBContrast),\n",
    "    A.Normalize(),\n",
    "    ToTensorV2()\n",
    "])\n",
    "\n",
    "val_test_transform = A.Compose([\n",
    "    A.Resize(transform_size, transform_size),\n",
    "    A.Normalize(),\n",
    "    ToTensorV2()\n",
    "])"
   ]
  },
  {
   "cell_type": "code",
   "execution_count": null,
   "id": "6ca487cd",
   "metadata": {},
   "outputs": [],
   "source": [
    "train_dataset = CustomImageDataset(TRAIN_DIR, transform=train_transform)\n",
    "val_dataset   = CustomImageDataset(VAL_DIR, transform=val_test_transform)\n",
    "\n",
    "train_loader = DataLoader(train_dataset, batch_size=batch_size, shuffle=True)\n",
    "val_loader   = DataLoader(val_dataset, batch_size=batch_size)\n",
    "\n",
    "device = torch.device(\"cuda\" if torch.cuda.is_available() else \"cpu\")\n",
    "num_classes = len(set(train_dataset.labels))\n",
    "model = CNNClassifier(input_size=transform_size ,num_classes=num_classes, dropout_rate=hparams_space[\"dropout\"][1]).to(device)\n",
    "model.init_weights()\n",
    "\n",
    "log_dir = \"runs/mlp_experimento_1\"\n",
    "writer = SummaryWriter(log_dir=log_dir)\n",
    "\n",
    "criterion = nn.CrossEntropyLoss()\n",
    "optimizer = optim.Adam(model.parameters(), lr=1e-3, weight_decay=1e-4)\n",
    "# optimizer = optim.Adam(model.parameters(), lr=1e-3)"
   ]
  },
  {
   "cell_type": "markdown",
   "id": "133951be",
   "metadata": {},
   "source": [
    "# Train CNN"
   ]
  },
  {
   "cell_type": "code",
   "execution_count": null,
   "id": "cf356efc",
   "metadata": {},
   "outputs": [],
   "source": [
    "# Loop de entrenamiento\n",
    "n_epochs = hparams_space[\"epochs\"]\n",
    "with mlflow.start_run():\n",
    "    # Log hiperparámetros\n",
    "    mlflow.log_params(hparams_space)\n",
    "    best_val_acc = 0\n",
    "    best_val_loss = 0\n",
    "    best_train_acc = 0\n",
    "    best_train_loss = 0\n",
    "    best_epoch = 0\n",
    "    \n",
    "    for epoch in range(n_epochs):\n",
    "        model.train()\n",
    "        running_loss = 0.0\n",
    "        correct, total = 0, 0\n",
    "        \n",
    "        if epoch == 0:\n",
    "            for name, param in model.named_parameters():\n",
    "                writer.add_histogram(name, param, epoch)\n",
    "    \n",
    "        for images, labels in tqdm(train_loader, desc=f\"Epoch {epoch+1}/{n_epochs}\"):\n",
    "            images, labels = images.to(device), labels.to(device)\n",
    "    \n",
    "            optimizer.zero_grad()\n",
    "            outputs = model(images)\n",
    "            loss = criterion(outputs, labels)\n",
    "            loss.backward()\n",
    "            optimizer.step()\n",
    "    \n",
    "            running_loss += loss.item()\n",
    "            _, preds = torch.max(outputs, 1)\n",
    "            correct += (preds == labels).sum().item()\n",
    "            total += labels.size(0)\n",
    "    \n",
    "        train_loss = running_loss / len(train_loader)\n",
    "        train_acc = 100.0 * correct / total\n",
    "        val_loss, val_acc = evaluate(model, val_loader, writer, device, train_dataset, criterion, epoch=epoch, prefix=\"val\")\n",
    "    \n",
    "        print(f\"Epoch {epoch+1} - Train -> Loss:{train_loss:.4f},Accuracy:{train_acc:.2f}% - Val -> Loss:{val_loss:.4f},Accuracy:{val_acc:.2f}%\")\n",
    "    \n",
    "        writer.add_scalar(\"train/loss\", train_loss, epoch)\n",
    "        writer.add_scalar(\"train/accuracy\", train_acc, epoch)\n",
    "    \n",
    "        # Log en MLflow\n",
    "        mlflow.log_metrics({\n",
    "            \"train_loss\": train_loss,\n",
    "            \"train_accuracy\": train_acc,\n",
    "            \"val_loss\": val_loss,\n",
    "            \"val_accuracy\": val_acc\n",
    "        }, step=epoch)\n",
    "        if val_acc > best_val_acc:\n",
    "            best_val_acc = val_acc\n",
    "            best_val_loss = val_loss\n",
    "            best_train_acc = train_acc\n",
    "            best_train_loss = train_loss\n",
    "            best_epoch = epoch\n",
    "            # Guardar modelo\n",
    "            torch.save(model.state_dict(), \"mlp_model.pth\")\n",
    "            print(\"Modelo guardado como 'mlp_model.pth'\")\n",
    "            mlflow.log_artifact(\"mlp_model.pth\")\n",
    "            mlflow.pytorch.log_model(model, artifact_path=\"pytorch_model\")\n",
    "        elif epoch > best_epoch + hparams_space[\"es_patience\"]:\n",
    "            print(\"Early Stopping\")\n",
    "            break\n",
    "    mlflow.log_metrics({\n",
    "        \"train_loss\": best_train_loss,\n",
    "        \"train_accuracy\": best_train_acc,\n",
    "        \"val_loss\": best_val_loss,\n",
    "        \"val_accuracy\": best_val_acc,\n",
    "        \"best_epoch\": best_epoch\n",
    "    }, step=epoch+1)     "
   ]
  }
 ],
 "metadata": {
  "kernelspec": {
   "display_name": "Python 3",
   "language": "python",
   "name": "python3"
  },
  "language_info": {
   "codemirror_mode": {
    "name": "ipython",
    "version": 3
   },
   "file_extension": ".py",
   "mimetype": "text/x-python",
   "name": "python",
   "nbconvert_exporter": "python",
   "pygments_lexer": "ipython3",
   "version": "3.12.3"
  }
 },
 "nbformat": 4,
 "nbformat_minor": 5
}
