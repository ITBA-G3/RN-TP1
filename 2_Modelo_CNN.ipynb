{
 "cells": [
  {
   "cell_type": "code",
   "execution_count": 28,
   "id": "d54f5f01",
   "metadata": {},
   "outputs": [],
   "source": [
    "from PIL import Image\n",
    "from pathlib import Path\n",
    "import pandas as pd\n",
    "from matplotlib import pyplot as plt\n",
    "\n",
    "from utils import get_class, plot_to_tensorboard, evaluate, param_counter, CNNClassifier\n",
    "from CustomImageDataset import CustomImageDataset\n",
    "from MLPClassifier import MLPClassifier\n",
    "\n",
    "import os\n",
    "import io\n",
    "import numpy as np\n",
    "import logging\n",
    "\n",
    "import torch\n",
    "import torch.nn as nn\n",
    "import torch.optim as optim\n",
    "from torch.utils.data import Dataset, DataLoader\n",
    "from torch.utils.tensorboard import SummaryWriter\n",
    "\n",
    "import albumentations as A\n",
    "from albumentations.pytorch import ToTensorV2\n",
    "\n",
    "from sklearn.preprocessing import LabelEncoder\n",
    "from sklearn.metrics import confusion_matrix, ConfusionMatrixDisplay, classification_report\n",
    "\n",
    "from tqdm import tqdm\n",
    "\n",
    "import mlflow\n",
    "import mlflow.pytorch\n",
    "\n",
    "import warnings"
   ]
  },
  {
   "cell_type": "code",
   "execution_count": 29,
   "id": "02f6b73c",
   "metadata": {},
   "outputs": [],
   "source": [
    "warnings.filterwarnings(\"ignore\", category=UserWarning)\n",
    "warnings.filterwarnings(\"ignore\", category=FutureWarning)\n",
    "logging.getLogger(\"mlflow\").setLevel(logging.ERROR)"
   ]
  },
  {
   "cell_type": "markdown",
   "id": "ce5934bf",
   "metadata": {},
   "source": [
    "## Load dataset\n",
    "\n",
    "> Cargar imagenes al dataframe"
   ]
  },
  {
   "cell_type": "code",
   "execution_count": 30,
   "id": "491ee4b6",
   "metadata": {},
   "outputs": [],
   "source": [
    "data_dir = r'data/Split_smol/train/'\n",
    "p = Path(data_dir).glob('**/*')\n",
    "files = [(x, get_class(x), Image.open(x).size,Image.open(x)) for x in p if x.is_file()]\n",
    "df_train = pd.DataFrame(files, columns=[\"path\", \"class\", \"resolution\",\"data\"])\n",
    "\n",
    "data_dir = r'data/Split_smol/val/'\n",
    "p = Path(data_dir).glob('**/*')\n",
    "files = [(x, get_class(x), Image.open(x).size,Image.open(x)) for x in p if x.is_file()]\n",
    "df_val = pd.DataFrame(files, columns=[\"path\", \"class\", \"resolution\", \"data\"])"
   ]
  },
  {
   "cell_type": "markdown",
   "id": "c70e8c9c",
   "metadata": {},
   "source": [
    "## Modelo para clasificación de imágenes con MLP"
   ]
  },
  {
   "cell_type": "code",
   "execution_count": 31,
   "id": "4fe56dde",
   "metadata": {},
   "outputs": [
    {
     "data": {
      "text/plain": [
       "<Experiment: artifact_location='file:///home/ivan/ITBA/Redes/RN-TP1/mlruns/779117040822828427', creation_time=1751074950104, experiment_id='779117040822828427', last_update_time=1751074950104, lifecycle_stage='active', name='CNN_Clasificador_Imagenes', tags={}>"
      ]
     },
     "execution_count": 31,
     "metadata": {},
     "output_type": "execute_result"
    }
   ],
   "source": [
    "mlflow.set_experiment(\"CNN_Clasificador_Imagenes\")"
   ]
  },
  {
   "cell_type": "code",
   "execution_count": 32,
   "id": "53c2e50d",
   "metadata": {},
   "outputs": [],
   "source": [
    "# Constant definitions\n",
    "\n",
    "TRAIN_DIR = \"data/Split_smol/train/\"\n",
    "VAL_DIR = \"data/Split_smol/val/\"\n",
    "\n",
    "batch_size = 32"
   ]
  },
  {
   "cell_type": "code",
   "execution_count": 33,
   "id": "ea264742",
   "metadata": {},
   "outputs": [],
   "source": [
    "hparams_space= {\n",
    "    \"model\": (\"MLPClassifier\"),\n",
    "    \"input_size\":  [32,64,128],\n",
    "    \"batch_size\": [16,32],\n",
    "    \"lr\": [1e-3,1e-4],\n",
    "    \"epochs\": 200,\n",
    "    \"optimizer\":  [\"Adam\"],\n",
    "    \"HFlip\": [0.0,0.5],\n",
    "    \"VFlip\": [0.0,0.5],\n",
    "    \"RBContrast\": [0.0, 0.5],\n",
    "    \"loss_fn\": \"CrossEntropyLoss\",\n",
    "    \"train_dir\": TRAIN_DIR,\n",
    "    \"val_dir\": VAL_DIR,\n",
    "    \"es_patience\": 10,\n",
    "    \"dropout\": [0.0,0.1,0.2,0.3],\n",
    "    \"kernel_size\": [3,4],\n",
    "    \"out_channels\": [8,16,24]\n",
    "}"
   ]
  },
  {
   "cell_type": "code",
   "execution_count": 34,
   "id": "9bfa6696",
   "metadata": {},
   "outputs": [],
   "source": [
    "transform_size = hparams_space[\"input_size\"][1]\n",
    "horizontal_flip = hparams_space[\"HFlip\"][1]\n",
    "RBContrast = hparams_space[\"RBContrast\"][1]\n",
    "\n",
    "train_transform = A.Compose([\n",
    "    A.Resize(transform_size, transform_size),\n",
    "    A.HorizontalFlip(p=horizontal_flip),\n",
    "    A.RandomBrightnessContrast(p=RBContrast),\n",
    "    A.Normalize(),\n",
    "    ToTensorV2()\n",
    "])\n",
    "\n",
    "val_test_transform = A.Compose([\n",
    "    A.Resize(transform_size, transform_size),\n",
    "    A.Normalize(),\n",
    "    ToTensorV2()\n",
    "])"
   ]
  },
  {
   "cell_type": "code",
   "execution_count": 35,
   "id": "6ca487cd",
   "metadata": {},
   "outputs": [],
   "source": [
    "train_dataset = CustomImageDataset(TRAIN_DIR, transform=train_transform)\n",
    "val_dataset   = CustomImageDataset(VAL_DIR, transform=val_test_transform)\n",
    "\n",
    "train_loader = DataLoader(train_dataset, batch_size=batch_size, shuffle=True)\n",
    "val_loader   = DataLoader(val_dataset, batch_size=batch_size)\n",
    "\n",
    "device = torch.device(\"cuda\" if torch.cuda.is_available() else \"cpu\")\n",
    "num_classes = len(set(train_dataset.labels))\n",
    "model = CNNClassifier(input_size=transform_size ,num_classes=num_classes, dropout=hparams_space[\"dropout\"][1]).to(device)\n",
    "# model.init_weights()\n",
    "\n",
    "log_dir = \"runs/mlp_experimento_1\"\n",
    "writer = SummaryWriter(log_dir=log_dir)\n",
    "\n",
    "criterion = nn.CrossEntropyLoss()\n",
    "optimizer = optim.Adam(model.parameters(), lr=1e-3, weight_decay=1e-4)\n",
    "# optimizer = optim.Adam(model.parameters(), lr=1e-3)"
   ]
  },
  {
   "cell_type": "markdown",
   "id": "133951be",
   "metadata": {},
   "source": [
    "# Train CNN"
   ]
  },
  {
   "cell_type": "code",
   "execution_count": null,
   "id": "cf2afd9c",
   "metadata": {},
   "outputs": [
    {
     "name": "stdout",
     "output_type": "stream",
     "text": [
      "modelo número: 0\r"
     ]
    },
    {
     "ename": "AttributeError",
     "evalue": "'numpy.ndarray' object has no attribute 'label_encoder'",
     "output_type": "error",
     "traceback": [
      "\u001b[31m---------------------------------------------------------------------------\u001b[39m",
      "\u001b[31mAttributeError\u001b[39m                            Traceback (most recent call last)",
      "\u001b[36mCell\u001b[39m\u001b[36m \u001b[39m\u001b[32mIn[36]\u001b[39m\u001b[32m, line 87\u001b[39m\n\u001b[32m     85\u001b[39m train_loss = running_loss / \u001b[38;5;28mlen\u001b[39m(train_loader)\n\u001b[32m     86\u001b[39m train_acc = \u001b[32m100.0\u001b[39m * correct / total\n\u001b[32m---> \u001b[39m\u001b[32m87\u001b[39m val_loss, val_acc = \u001b[43mevaluate\u001b[49m\u001b[43m(\u001b[49m\u001b[43mmodel\u001b[49m\u001b[43m,\u001b[49m\u001b[43m \u001b[49m\u001b[43mval_loader\u001b[49m\u001b[43m,\u001b[49m\u001b[43m \u001b[49m\u001b[43mwriter\u001b[49m\u001b[43m,\u001b[49m\u001b[43m \u001b[49m\u001b[43mdevice\u001b[49m\u001b[43m,\u001b[49m\u001b[43mtrain_dataset\u001b[49m\u001b[43m.\u001b[49m\u001b[43mlabel_encoder\u001b[49m\u001b[43m.\u001b[49m\u001b[43mclasses_\u001b[49m\u001b[43m,\u001b[49m\u001b[43mcriterion\u001b[49m\u001b[43m,\u001b[49m\u001b[43mepoch\u001b[49m\u001b[43m=\u001b[49m\u001b[43mepoch\u001b[49m\u001b[43m,\u001b[49m\u001b[43m \u001b[49m\u001b[43mprefix\u001b[49m\u001b[43m=\u001b[49m\u001b[33;43m\"\u001b[39;49m\u001b[33;43mval\u001b[39;49m\u001b[33;43m\"\u001b[39;49m\u001b[43m)\u001b[49m\n\u001b[32m     89\u001b[39m \u001b[38;5;66;03m#print(f\"Epoch {epoch+1}:\")\u001b[39;00m\n\u001b[32m     90\u001b[39m \u001b[38;5;66;03m#print(f\"  Train Loss: {train_loss:.4f}, Accuracy: {train_acc:.2f}%\")\u001b[39;00m\n\u001b[32m     91\u001b[39m \u001b[38;5;66;03m#print(f\"  Val   Loss: {val_loss:.4f}, Accuracy: {val_acc:.2f}%\")\u001b[39;00m\n\u001b[32m     93\u001b[39m writer.add_scalar(\u001b[33m\"\u001b[39m\u001b[33mtrain/loss\u001b[39m\u001b[33m\"\u001b[39m, train_loss, epoch)\n",
      "\u001b[36mFile \u001b[39m\u001b[32m~/ITBA/Redes/RN-TP1/utils.py:72\u001b[39m, in \u001b[36mevaluate\u001b[39m\u001b[34m(model, loader, writer, device, train_dataset, criterion, epoch, prefix)\u001b[39m\n\u001b[32m     71\u001b[39m \u001b[38;5;28;01mdef\u001b[39;00m\u001b[38;5;250m \u001b[39m\u001b[34mevaluate\u001b[39m(model, loader, writer, device, train_dataset, criterion, epoch=\u001b[38;5;28;01mNone\u001b[39;00m, prefix=\u001b[33m\"\u001b[39m\u001b[33mval\u001b[39m\u001b[33m\"\u001b[39m):\n\u001b[32m---> \u001b[39m\u001b[32m72\u001b[39m     \u001b[43mlog_classification_report\u001b[49m\u001b[43m(\u001b[49m\u001b[43mmodel\u001b[49m\u001b[43m,\u001b[49m\u001b[43m \u001b[49m\u001b[43mdevice\u001b[49m\u001b[43m,\u001b[49m\u001b[43m \u001b[49m\u001b[43mtrain_dataset\u001b[49m\u001b[43m,\u001b[49m\u001b[43m \u001b[49m\u001b[43mloader\u001b[49m\u001b[43m,\u001b[49m\u001b[43m \u001b[49m\u001b[43mwriter\u001b[49m\u001b[43m,\u001b[49m\u001b[43m \u001b[49m\u001b[43mstep\u001b[49m\u001b[43m=\u001b[49m\u001b[43mepoch\u001b[49m\u001b[43m,\u001b[49m\u001b[43m \u001b[49m\u001b[43mprefix\u001b[49m\u001b[43m=\u001b[49m\u001b[33;43m\"\u001b[39;49m\u001b[33;43mval\u001b[39;49m\u001b[33;43m\"\u001b[39;49m\u001b[43m)\u001b[49m\n\u001b[32m     73\u001b[39m     model.eval()\n\u001b[32m     74\u001b[39m     correct, total, loss_sum = \u001b[32m0\u001b[39m, \u001b[32m0\u001b[39m, \u001b[32m0.0\u001b[39m\n",
      "\u001b[36mFile \u001b[39m\u001b[32m~/ITBA/Redes/RN-TP1/utils.py:49\u001b[39m, in \u001b[36mlog_classification_report\u001b[39m\u001b[34m(model, device, train_dataset, loader, writer, step, prefix)\u001b[39m\n\u001b[32m     47\u001b[39m cm = confusion_matrix(all_labels, all_preds)\n\u001b[32m     48\u001b[39m fig_cm, ax = plt.subplots(figsize=(\u001b[32m6\u001b[39m, \u001b[32m6\u001b[39m))\n\u001b[32m---> \u001b[39m\u001b[32m49\u001b[39m disp = ConfusionMatrixDisplay(confusion_matrix=cm, display_labels=\u001b[43mtrain_dataset\u001b[49m\u001b[43m.\u001b[49m\u001b[43mlabel_encoder\u001b[49m.classes_)\n\u001b[32m     50\u001b[39m disp.plot(ax=ax, cmap=\u001b[33m'\u001b[39m\u001b[33mBlues\u001b[39m\u001b[33m'\u001b[39m, xticks_rotation=\u001b[32m45\u001b[39m)\n\u001b[32m     51\u001b[39m ax.set_title(\u001b[33mf\u001b[39m\u001b[33m'\u001b[39m\u001b[38;5;132;01m{\u001b[39;00mprefix.title()\u001b[38;5;132;01m}\u001b[39;00m\u001b[33m - Confusion Matrix\u001b[39m\u001b[33m'\u001b[39m)\n",
      "\u001b[31mAttributeError\u001b[39m: 'numpy.ndarray' object has no attribute 'label_encoder'"
     ]
    },
    {
     "data": {
      "image/png": "[encoded data removed]",
      "text/plain": [
       "<Figure size 600x600 with 1 Axes>"
      ]
     },
     "metadata": {},
     "output_type": "display_data"
    }
   ],
   "source": [
    "modelnbr = 0\n",
    "for input_size in hparams_space[\"input_size\"]:\n",
    "    for batch_size in hparams_space[\"batch_size\"]:\n",
    "        for lr in hparams_space[\"lr\"]:\n",
    "            for optimizer in hparams_space[\"optimizer\"]:\n",
    "                for HFlip in hparams_space[\"HFlip\"]:\n",
    "                    for VFlip in hparams_space[\"VFlip\"]:\n",
    "                        for RBContrast in hparams_space[\"RBContrast\"]:\n",
    "                            for dropout in hparams_space[\"dropout\"]:\n",
    "                                for kernel_size in hparams_space[\"kernel_size\"]:\n",
    "                                    for out_channels in hparams_space[\"out_channels\"]:\n",
    "                                        if True: #np.random.rand() < 0.05:\n",
    "                                            print(f\"modelo número: {modelnbr}\", end = \"\\r\")\n",
    "                                            modelnbr += 1\n",
    "                                            hparams= {\n",
    "                                                \"model\": (\"CNNClassifier\"),\n",
    "                                                \"input_size\":  input_size,\n",
    "                                                \"batch_size\": batch_size,\n",
    "                                                \"lr\": lr,\n",
    "                                                \"epochs\": 200,\n",
    "                                                \"optimizer\": optimizer,\n",
    "                                                \"HFlip\": HFlip,\n",
    "                                                \"VFlip\": VFlip,\n",
    "                                                \"RBContrast\": RBContrast,\n",
    "                                                \"loss_fn\": \"CrossEntropyLoss\",\n",
    "                                                \"train_dir\": TRAIN_DIR,\n",
    "                                                \"val_dir\": VAL_DIR,\n",
    "                                                \"es_patience\": 10,\n",
    "                                                \"dropout\": dropout,\n",
    "                                                \"kernel_size\": kernel_size,\n",
    "                                                \"out_channels\": out_channels,\n",
    "                                                \"model_number\": modelnbr\n",
    "                                            }\n",
    "                                            train_transform = A.Compose([\n",
    "                                                A.Resize(hparams[\"input_size\"], hparams[\"input_size\"]),\n",
    "                                                A.HorizontalFlip(p=hparams[\"HFlip\"]),\n",
    "                                                A.VerticalFlip(p=hparams[\"VFlip\"]),\n",
    "                                                A.RandomBrightnessContrast(p=hparams[\"RBContrast\"]),\n",
    "                                                A.Normalize(),\n",
    "                                                ToTensorV2()\n",
    "                                            ])\n",
    "                                            val_test_transform = A.Compose([\n",
    "                                                A.Resize(hparams[\"input_size\"], hparams[\"input_size\"]),\n",
    "                                                A.Normalize(),\n",
    "                                                ToTensorV2()\n",
    "                                            ])\n",
    "                                            train_dataset = CustomImageDataset(hparams[\"train_dir\"], transform=train_transform)\n",
    "                                            val_dataset   = CustomImageDataset(hparams['val_dir'], transform=val_test_transform)\n",
    "                                            batch_size = hparams[\"batch_size\"]\n",
    "                                            train_loader = DataLoader(train_dataset, batch_size=batch_size, shuffle=True)\n",
    "                                            val_loader   = DataLoader(val_dataset, batch_size=batch_size)\n",
    "                                            device = torch.device(\"cuda\" if torch.cuda.is_available() else \"cpu\")\n",
    "                                            num_classes = len(set(train_dataset.labels))\n",
    "                                            model = CNNClassifier(num_classes=num_classes, input_size = hparams[\"input_size\"], dropout = hparams[\"dropout\"], kernel_size=hparams[\"kernel_size\"],out_channels=hparams[\"out_channels\"]).to(device)\n",
    "                                            criterion = nn.CrossEntropyLoss()\n",
    "                                            optimizer = optim.Adam(model.parameters(), lr=hparams[\"lr\"]) if hparams[\"optimizer\"]==\"Adam\" else optim.SGD(model.parameters(), lr=hparams[\"lr\"])\n",
    "                                            hparams[\"count_params\"] = param_counter(model)\n",
    "                                            with mlflow.start_run():\n",
    "                                                # Log hiperparámetros\n",
    "                                                mlflow.log_params(hparams)\n",
    "                                                best_val_acc = 0\n",
    "                                                best_val_loss = 0\n",
    "                                                best_train_acc = 0\n",
    "                                                best_train_loss = 0\n",
    "                                                best_epoch = 0\n",
    "                                                for epoch in range(hparams[\"epochs\"]):\n",
    "                                                    model.train()\n",
    "                                                    running_loss = 0.0\n",
    "                                                    correct, total = 0, 0\n",
    "                                                \n",
    "                                                    for images, labels in train_loader:\n",
    "                                                        images, labels = images.to(device), labels.to(device)\n",
    "                                                \n",
    "                                                        optimizer.zero_grad()\n",
    "                                                        outputs = model(images)\n",
    "                                                        loss = criterion(outputs, labels)\n",
    "                                                        loss.backward()\n",
    "                                                        optimizer.step()\n",
    "                                                \n",
    "                                                        running_loss += loss.item()\n",
    "                                                        _, preds = torch.max(outputs, 1)\n",
    "                                                        correct += (preds == labels).sum().item()\n",
    "                                                        total += labels.size(0)\n",
    "                                                \n",
    "                                                    train_loss = running_loss / len(train_loader)\n",
    "                                                    train_acc = 100.0 * correct / total\n",
    "                                                    val_loss, val_acc = evaluate(model, val_loader, writer, device,train_dataset,criterion,epoch=epoch, prefix=\"val\")\n",
    "                                                \n",
    "                                                    #print(f\"Epoch {epoch+1}:\")\n",
    "                                                    #print(f\"  Train Loss: {train_loss:.4f}, Accuracy: {train_acc:.2f}%\")\n",
    "                                                    #print(f\"  Val   Loss: {val_loss:.4f}, Accuracy: {val_acc:.2f}%\")\n",
    "                                                \n",
    "                                                    writer.add_scalar(\"train/loss\", train_loss, epoch)\n",
    "                                                    writer.add_scalar(\"train/accuracy\", train_acc, epoch)\n",
    "                                                \n",
    "                                                    # Log en MLflow\n",
    "                                                    mlflow.log_metrics({\n",
    "                                                        \"train_loss\": train_loss,\n",
    "                                                        \"train_accuracy\": train_acc,\n",
    "                                                        \"val_loss\": val_loss,\n",
    "                                                        \"val_accuracy\": val_acc\n",
    "                                                    }, step=epoch)\n",
    "                                                    if val_acc > best_val_acc:\n",
    "                                                        best_val_acc = val_acc\n",
    "                                                        best_val_loss = val_loss\n",
    "                                                        best_train_acc = train_acc\n",
    "                                                        best_train_loss = train_loss\n",
    "                                                        best_epoch = epoch\n",
    "                                                        # Guardar modelo\n",
    "                                                        torch.save(model.state_dict(), \"mlp_model.pth\")\n",
    "                                                        #print(\"Modelo guardado como 'mlp_model.pth'\")\n",
    "                                                        mlflow.log_artifact(\"mlp_model.pth\")\n",
    "                                                        mlflow.pytorch.log_model(model, artifact_path=\"pytorch_model\")\n",
    "                                                    elif epoch > best_epoch + hparams[\"es_patience\"]:\n",
    "                                                        #print(\"Early Stopping\")\n",
    "                                                        break\n",
    "                                                        \n",
    "                                                mlflow.log_metrics({\n",
    "                                                        \"train_loss\": best_train_loss,\n",
    "                                                        \"train_accuracy\": best_train_acc,\n",
    "                                                        \"val_loss\": best_val_loss,\n",
    "                                                        \"val_accuracy\": best_val_acc,\n",
    "                                                        \"best_epoch\": best_epoch\n",
    "                                                    }, step=epoch+1)                                                \n",
    "                                                \n",
    "\n"
   ]
  }
 ],
 "metadata": {
  "kernelspec": {
   "display_name": "Python 3",
   "language": "python",
   "name": "python3"
  },
  "language_info": {
   "codemirror_mode": {
    "name": "ipython",
    "version": 3
   },
   "file_extension": ".py",
   "mimetype": "text/x-python",
   "name": "python",
   "nbconvert_exporter": "python",
   "pygments_lexer": "ipython3",
   "version": "3.12.11"
  }
 },
 "nbformat": 4,
 "nbformat_minor": 5
}
